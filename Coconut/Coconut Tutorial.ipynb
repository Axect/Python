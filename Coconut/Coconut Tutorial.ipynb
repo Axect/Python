{
 "cells": [
  {
   "cell_type": "markdown",
   "id": "74c58b92",
   "metadata": {},
   "source": [
    "# Coconut Tutorial"
   ]
  },
  {
   "cell_type": "markdown",
   "id": "edb80b3c",
   "metadata": {},
   "source": [
    "## 1. Hello, World!"
   ]
  },
  {
   "cell_type": "code",
   "execution_count": 1,
   "id": "587e4978",
   "metadata": {},
   "outputs": [
    {
     "name": "stdout",
     "output_type": "stream",
     "text": [
      "hello, world\n"
     ]
    }
   ],
   "source": [
    "\"hello, world\" |> print"
   ]
  },
  {
   "cell_type": "markdown",
   "id": "c4a01215",
   "metadata": {},
   "source": [
    "## 2. Factorial"
   ]
  },
  {
   "cell_type": "markdown",
   "id": "b120324a",
   "metadata": {},
   "source": [
    "### 2-1. Addpattern"
   ]
  },
  {
   "cell_type": "code",
   "execution_count": 2,
   "id": "a759a56a",
   "metadata": {},
   "outputs": [],
   "source": [
    "def factorial(0) = 1\n",
    "\n",
    "addpattern def factorial(n is int if n > 0) =\n",
    "    range(1, n+1) |> reduce$(*)"
   ]
  },
  {
   "cell_type": "code",
   "execution_count": 3,
   "id": "e7c4d8e6",
   "metadata": {},
   "outputs": [
    {
     "name": "stdout",
     "output_type": "stream",
     "text": [
      "1\n"
     ]
    }
   ],
   "source": [
    "0 |> factorial |> print"
   ]
  },
  {
   "cell_type": "code",
   "execution_count": 4,
   "id": "047f3d13",
   "metadata": {},
   "outputs": [
    {
     "name": "stdout",
     "output_type": "stream",
     "text": [
      "6\n"
     ]
    }
   ],
   "source": [
    "3 |> factorial |> print"
   ]
  },
  {
   "cell_type": "markdown",
   "id": "f5867a1f",
   "metadata": {},
   "source": [
    "### 2-2. Tail optimization"
   ]
  },
  {
   "cell_type": "code",
   "execution_count": 5,
   "id": "8061deac",
   "metadata": {},
   "outputs": [],
   "source": [
    "def factorial(n):\n",
    "    case n:\n",
    "        match 0:\n",
    "            return 1\n",
    "        match x is int if x > 0:\n",
    "            return x * factorial(x-1)\n",
    "    else:\n",
    "        raise TypeError(\"factorial should use integer >= 0\")"
   ]
  },
  {
   "cell_type": "code",
   "execution_count": 6,
   "id": "830f5e7c",
   "metadata": {},
   "outputs": [
    {
     "name": "stdout",
     "output_type": "stream",
     "text": [
      "6\n"
     ]
    }
   ],
   "source": [
    "3 |> factorial |> print"
   ]
  },
  {
   "cell_type": "markdown",
   "id": "c4bdc66e",
   "metadata": {},
   "source": [
    "## 3. With Numpy"
   ]
  },
  {
   "cell_type": "code",
   "execution_count": 7,
   "id": "730ee076",
   "metadata": {},
   "outputs": [],
   "source": [
    "import numpy as np"
   ]
  },
  {
   "cell_type": "code",
   "execution_count": 8,
   "id": "a6955cd5",
   "metadata": {},
   "outputs": [
    {
     "data": {
      "text/plain": [
       "(100, 2)"
      ]
     },
     "execution_count": 8,
     "metadata": {},
     "output_type": "execute_result"
    }
   ],
   "source": [
    "# Normal numpy\n",
    "x = np.random.normal(2, 1, 100)\n",
    "y = np.random.normal(-2, 1, 100)\n",
    "z = np.matrix(np.column_stack([x, y]))\n",
    "z.shape"
   ]
  },
  {
   "cell_type": "code",
   "execution_count": 9,
   "id": "b1721e64",
   "metadata": {},
   "outputs": [
    {
     "data": {
      "text/plain": [
       "(100, 2)"
      ]
     },
     "execution_count": 9,
     "metadata": {},
     "output_type": "execute_result"
    }
   ],
   "source": [
    "# Coconut\n",
    "x = np.random.normal(2, 1, 100)\n",
    "y = np.random.normal(-2, 1, 100)\n",
    "(x, y) |> np.column_stack |> np.matrix |> np.shape"
   ]
  },
  {
   "cell_type": "code",
   "execution_count": 10,
   "id": "8639940b",
   "metadata": {},
   "outputs": [
    {
     "data": {
      "text/plain": [
       "(100, 2)"
      ]
     },
     "execution_count": 10,
     "metadata": {},
     "output_type": "execute_result"
    }
   ],
   "source": [
    "z = (x, y) |> np.column_stack |> np.matrix\n",
    "z.shape"
   ]
  },
  {
   "cell_type": "code",
   "execution_count": 11,
   "id": "85e3e06f",
   "metadata": {},
   "outputs": [
    {
     "data": {
      "text/plain": [
       "198.56540414625545"
      ]
     },
     "execution_count": 11,
     "metadata": {},
     "output_type": "execute_result"
    }
   ],
   "source": [
    "# Normal numpy\n",
    "s = np.sum(x)\n",
    "s"
   ]
  },
  {
   "cell_type": "code",
   "execution_count": 12,
   "id": "62aab998",
   "metadata": {},
   "outputs": [
    {
     "data": {
      "text/plain": [
       "198.56540414625556"
      ]
     },
     "execution_count": 12,
     "metadata": {},
     "output_type": "execute_result"
    }
   ],
   "source": [
    "# Coconut\n",
    "x |> reduce$(+)"
   ]
  },
  {
   "cell_type": "code",
   "execution_count": 13,
   "id": "e6639821",
   "metadata": {},
   "outputs": [
    {
     "name": "stdout",
     "output_type": "stream",
     "text": [
      "2.62 µs ± 35.8 ns per loop (mean ± std. dev. of 7 runs, 100000 loops each)\n"
     ]
    }
   ],
   "source": [
    "%timeit np.sum(x)"
   ]
  },
  {
   "cell_type": "code",
   "execution_count": 14,
   "id": "fb24c2c6",
   "metadata": {},
   "outputs": [
    {
     "name": "stdout",
     "output_type": "stream",
     "text": [
      "7.48 µs ± 56.5 ns per loop (mean ± std. dev. of 7 runs, 100000 loops each)\n"
     ]
    }
   ],
   "source": [
    "%timeit x |> reduce$(+)"
   ]
  },
  {
   "cell_type": "code",
   "execution_count": 15,
   "id": "ab805f01",
   "metadata": {},
   "outputs": [
    {
     "name": "stdout",
     "output_type": "stream",
     "text": [
      "2.62 µs ± 14.1 ns per loop (mean ± std. dev. of 7 runs, 100000 loops each)\n"
     ]
    }
   ],
   "source": [
    "%timeit x |> np.sum"
   ]
  },
  {
   "cell_type": "markdown",
   "id": "414b1909",
   "metadata": {},
   "source": [
    "## 4. With Numba...? Nope!"
   ]
  },
  {
   "cell_type": "code",
   "execution_count": 16,
   "id": "69361f38",
   "metadata": {},
   "outputs": [],
   "source": [
    "from numba import njit"
   ]
  },
  {
   "cell_type": "code",
   "execution_count": 17,
   "id": "a4490684",
   "metadata": {},
   "outputs": [],
   "source": [
    "def col_stack_shape(a, b):\n",
    "    z = np.concatenate((a, b), axis=0)\n",
    "    return z.shape"
   ]
  },
  {
   "cell_type": "code",
   "execution_count": 18,
   "id": "e5877cbd",
   "metadata": {},
   "outputs": [
    {
     "name": "stdout",
     "output_type": "stream",
     "text": [
      "1.4 µs ± 5 ns per loop (mean ± std. dev. of 7 runs, 1000000 loops each)\n"
     ]
    }
   ],
   "source": [
    "%timeit col_stack_shape(x, y)"
   ]
  },
  {
   "cell_type": "code",
   "execution_count": 19,
   "id": "9e28a492",
   "metadata": {},
   "outputs": [],
   "source": [
    "@njit(fastmath=True)\n",
    "def numba_col_stack_shape(a, b):\n",
    "    z = np.concatenate((a, b), axis=0)\n",
    "    return z.shape"
   ]
  },
  {
   "cell_type": "code",
   "execution_count": 20,
   "id": "77babd0c",
   "metadata": {},
   "outputs": [
    {
     "name": "stdout",
     "output_type": "stream",
     "text": [
      "422 ns ± 0.77 ns per loop (mean ± std. dev. of 7 runs, 1000000 loops each)\n"
     ]
    }
   ],
   "source": [
    "%timeit numba_col_stack_shape(x, y) # Why faster?"
   ]
  },
  {
   "cell_type": "code",
   "execution_count": 21,
   "id": "354b5427",
   "metadata": {},
   "outputs": [],
   "source": [
    "def coco_css(a, b):\n",
    "    return (a, b) |> np.column_stack |> np.shape"
   ]
  },
  {
   "cell_type": "code",
   "execution_count": 22,
   "id": "5aa99239",
   "metadata": {},
   "outputs": [
    {
     "name": "stdout",
     "output_type": "stream",
     "text": [
      "4.84 µs ± 74.8 ns per loop (mean ± std. dev. of 7 runs, 100000 loops each)\n"
     ]
    }
   ],
   "source": [
    "%timeit coco_css(x, y) # Overhead..?"
   ]
  }
 ],
 "metadata": {
  "kernelspec": {
   "display_name": "Coconut",
   "language": "coconut",
   "name": "coconut"
  },
  "language_info": {
   "codemirror_mode": {
    "name": "python",
    "version": 3
   },
   "file_extension": ".coco",
   "mimetype": "text/x-python3",
   "name": "coconut",
   "pygments_lexer": "coconut",
   "version": "1.5.0"
  }
 },
 "nbformat": 4,
 "nbformat_minor": 5
}
