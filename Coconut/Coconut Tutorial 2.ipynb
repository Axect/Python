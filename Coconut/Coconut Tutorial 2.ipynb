{
 "cells": [
  {
   "cell_type": "code",
   "execution_count": 5,
   "id": "a268a756",
   "metadata": {},
   "outputs": [],
   "source": [
    "import numpy as np\n",
    "import matplotlib.pyplot as plt\n",
    "import functools as ft"
   ]
  },
  {
   "cell_type": "markdown",
   "id": "c7720703",
   "metadata": {},
   "source": [
    "## Basic Functional Programming"
   ]
  },
  {
   "cell_type": "code",
   "execution_count": 3,
   "id": "0989713a",
   "metadata": {},
   "outputs": [],
   "source": [
    "# Imperative Python\n",
    "def sum_100():\n",
    "    s = 0\n",
    "    for i in range(1, 101):\n",
    "        s += i\n",
    "    return s"
   ]
  },
  {
   "cell_type": "code",
   "execution_count": 4,
   "id": "2bdd2ad5",
   "metadata": {},
   "outputs": [
    {
     "data": {
      "text/plain": [
       "5050"
      ]
     },
     "execution_count": 4,
     "metadata": {},
     "output_type": "execute_result"
    }
   ],
   "source": [
    "sum_100()"
   ]
  },
  {
   "cell_type": "code",
   "execution_count": 7,
   "id": "365b7cfc",
   "metadata": {},
   "outputs": [],
   "source": [
    "# Functional Python\n",
    "def sum_100_func():\n",
    "    return ft.reduce(lambda x, y: x + y, range(1,101))"
   ]
  },
  {
   "cell_type": "code",
   "execution_count": 8,
   "id": "6d9f7c4a",
   "metadata": {},
   "outputs": [
    {
     "data": {
      "text/plain": [
       "5050"
      ]
     },
     "execution_count": 8,
     "metadata": {},
     "output_type": "execute_result"
    }
   ],
   "source": [
    "sum_100_func()"
   ]
  },
  {
   "cell_type": "markdown",
   "id": "844750c4",
   "metadata": {},
   "source": [
    "### Lambda function"
   ]
  },
  {
   "cell_type": "code",
   "execution_count": 9,
   "id": "c9099015",
   "metadata": {},
   "outputs": [],
   "source": [
    "def f(x):\n",
    "    return x ** 2"
   ]
  },
  {
   "cell_type": "code",
   "execution_count": 10,
   "id": "494f6643",
   "metadata": {},
   "outputs": [
    {
     "data": {
      "text/plain": [
       "25"
      ]
     },
     "execution_count": 10,
     "metadata": {},
     "output_type": "execute_result"
    }
   ],
   "source": [
    "f(5)"
   ]
  },
  {
   "cell_type": "code",
   "execution_count": 11,
   "id": "87159a12",
   "metadata": {},
   "outputs": [],
   "source": [
    "# Differentiation\n",
    "def diff(f, x, h=1e-6):\n",
    "    return (f(x+h) - f(x)) / h"
   ]
  },
  {
   "cell_type": "code",
   "execution_count": 12,
   "id": "f5fcc458",
   "metadata": {},
   "outputs": [
    {
     "data": {
      "text/plain": [
       "4.0000010006480125"
      ]
     },
     "execution_count": 12,
     "metadata": {},
     "output_type": "execute_result"
    }
   ],
   "source": [
    "diff(f, 2)"
   ]
  },
  {
   "cell_type": "code",
   "execution_count": 13,
   "id": "25103727",
   "metadata": {},
   "outputs": [
    {
     "data": {
      "text/plain": [
       "12.000006002210739"
      ]
     },
     "execution_count": 13,
     "metadata": {},
     "output_type": "execute_result"
    }
   ],
   "source": [
    "diff(lambda x: x**3, 2)"
   ]
  },
  {
   "cell_type": "code",
   "execution_count": null,
   "id": "0364d0ee",
   "metadata": {},
   "outputs": [],
   "source": [
    "# a = 5 : declare   ; 5 : Literal\n",
    "# def f(x): declare ; lambda x: blabla : Literal"
   ]
  },
  {
   "cell_type": "code",
   "execution_count": 15,
   "id": "91c48c7f",
   "metadata": {},
   "outputs": [
    {
     "data": {
      "text/plain": [
       "5"
      ]
     },
     "execution_count": 15,
     "metadata": {},
     "output_type": "execute_result"
    }
   ],
   "source": [
    "(lambda x, y: x + y)(2, 3)"
   ]
  },
  {
   "cell_type": "markdown",
   "id": "84becdb0",
   "metadata": {},
   "source": [
    "### Map, Filter, Reduce"
   ]
  },
  {
   "cell_type": "code",
   "execution_count": 16,
   "id": "ae1797c7",
   "metadata": {},
   "outputs": [],
   "source": [
    "x = [1,2,3]"
   ]
  },
  {
   "cell_type": "code",
   "execution_count": 29,
   "id": "11c8bf5a",
   "metadata": {},
   "outputs": [
    {
     "data": {
      "text/plain": [
       "array([1., 4., 9.])"
      ]
     },
     "execution_count": 29,
     "metadata": {},
     "output_type": "execute_result"
    }
   ],
   "source": [
    "y = np.empty(3) # 메모리의 임의의 영역을 할당함 -> 매우 빠름! 그러나 불러온 값은 예측불가\n",
    "for i in range(len(x)):\n",
    "    y[i] = x[i] ** 2\n",
    "y"
   ]
  },
  {
   "cell_type": "code",
   "execution_count": 31,
   "id": "70bdfebc",
   "metadata": {},
   "outputs": [],
   "source": [
    "def empty_test(n):\n",
    "    y = np.empty(n)\n",
    "    return y + 1"
   ]
  },
  {
   "cell_type": "code",
   "execution_count": 32,
   "id": "64f7b2ee",
   "metadata": {},
   "outputs": [],
   "source": [
    "def zeros_test(n):\n",
    "    y = np.zeros(n)\n",
    "    return y + 1"
   ]
  },
  {
   "cell_type": "code",
   "execution_count": 36,
   "id": "38a581d2",
   "metadata": {},
   "outputs": [
    {
     "name": "stdout",
     "output_type": "stream",
     "text": [
      "1.94 ms ± 51.7 µs per loop (mean ± std. dev. of 7 runs, 1000 loops each)\n"
     ]
    }
   ],
   "source": [
    "%timeit empty_test(1000000)"
   ]
  },
  {
   "cell_type": "code",
   "execution_count": 37,
   "id": "e7d27bf5",
   "metadata": {},
   "outputs": [
    {
     "name": "stdout",
     "output_type": "stream",
     "text": [
      "1.95 ms ± 28.6 µs per loop (mean ± std. dev. of 7 runs, 100 loops each)\n"
     ]
    }
   ],
   "source": [
    "%timeit zeros_test(1000000)"
   ]
  },
  {
   "cell_type": "code",
   "execution_count": 39,
   "id": "4e51d6b9",
   "metadata": {},
   "outputs": [
    {
     "data": {
      "text/plain": [
       "[1, 4, 9]"
      ]
     },
     "execution_count": 39,
     "metadata": {},
     "output_type": "execute_result"
    }
   ],
   "source": [
    "# Python map\n",
    "list(map(lambda x: x**2, x))"
   ]
  },
  {
   "cell_type": "code",
   "execution_count": 41,
   "id": "c24ebcac",
   "metadata": {},
   "outputs": [
    {
     "data": {
      "text/plain": [
       "9"
      ]
     },
     "execution_count": 41,
     "metadata": {},
     "output_type": "execute_result"
    }
   ],
   "source": [
    "# Coconut\n",
    "(x -> x**2)(3) # Lambda function"
   ]
  },
  {
   "cell_type": "code",
   "execution_count": 42,
   "id": "300ce57d",
   "metadata": {},
   "outputs": [
    {
     "data": {
      "text/plain": [
       "9"
      ]
     },
     "execution_count": 42,
     "metadata": {},
     "output_type": "execute_result"
    }
   ],
   "source": [
    "# Coconut Pipeline\n",
    "3 |> x -> x**2"
   ]
  },
  {
   "cell_type": "code",
   "execution_count": 43,
   "id": "2a775ebb",
   "metadata": {},
   "outputs": [
    {
     "data": {
      "text/plain": [
       "0.9870266449903538"
      ]
     },
     "execution_count": 43,
     "metadata": {},
     "output_type": "execute_result"
    }
   ],
   "source": [
    "np.sin(np.sqrt(3))"
   ]
  },
  {
   "cell_type": "code",
   "execution_count": 44,
   "id": "2d4e69fe",
   "metadata": {},
   "outputs": [
    {
     "data": {
      "text/plain": [
       "0.9870266449903538"
      ]
     },
     "execution_count": 44,
     "metadata": {},
     "output_type": "execute_result"
    }
   ],
   "source": [
    "3 |> np.sqrt |> np.sin # Coconut pipeline \"|>\" pipeline operator"
   ]
  },
  {
   "cell_type": "code",
   "execution_count": 45,
   "id": "9f18cc30",
   "metadata": {},
   "outputs": [],
   "source": [
    "def f(x,y):\n",
    "    return x + 2*y"
   ]
  },
  {
   "cell_type": "code",
   "execution_count": 47,
   "id": "82ac010e",
   "metadata": {},
   "outputs": [
    {
     "data": {
      "text/plain": [
       "5"
      ]
     },
     "execution_count": 47,
     "metadata": {},
     "output_type": "execute_result"
    }
   ],
   "source": [
    "f(1, 2)"
   ]
  },
  {
   "cell_type": "code",
   "execution_count": 50,
   "id": "b4390464",
   "metadata": {},
   "outputs": [],
   "source": [
    "def g(y):\n",
    "    return f(1, y)"
   ]
  },
  {
   "cell_type": "code",
   "execution_count": 51,
   "id": "820cbecd",
   "metadata": {},
   "outputs": [
    {
     "data": {
      "text/plain": [
       "7"
      ]
     },
     "execution_count": 51,
     "metadata": {},
     "output_type": "execute_result"
    }
   ],
   "source": [
    "g(3)"
   ]
  },
  {
   "cell_type": "code",
   "execution_count": 54,
   "id": "439af96f",
   "metadata": {},
   "outputs": [
    {
     "data": {
      "text/plain": [
       "functools.partial(<function f at 0x7f7fcddbf940>, 1)"
      ]
     },
     "execution_count": 54,
     "metadata": {},
     "output_type": "execute_result"
    }
   ],
   "source": [
    "f$(1)"
   ]
  },
  {
   "cell_type": "code",
   "execution_count": 58,
   "id": "ef51d738",
   "metadata": {},
   "outputs": [
    {
     "data": {
      "text/plain": [
       "7"
      ]
     },
     "execution_count": 58,
     "metadata": {},
     "output_type": "execute_result"
    }
   ],
   "source": [
    "3 |> f$(1)"
   ]
  },
  {
   "cell_type": "code",
   "execution_count": 59,
   "id": "11c19391",
   "metadata": {},
   "outputs": [
    {
     "data": {
      "text/plain": [
       "7"
      ]
     },
     "execution_count": 59,
     "metadata": {},
     "output_type": "execute_result"
    }
   ],
   "source": [
    "1 |> f$(?, 3)"
   ]
  },
  {
   "cell_type": "code",
   "execution_count": 64,
   "id": "f26ce9b6",
   "metadata": {},
   "outputs": [
    {
     "data": {
      "text/plain": [
       "[2, 9, 28]"
      ]
     },
     "execution_count": 64,
     "metadata": {},
     "output_type": "execute_result"
    }
   ],
   "source": [
    "# Coconut map\n",
    "y = x \\\n",
    "    |> map$(x -> x**3) \\\n",
    "    |> map$(x -> x + 1) \\\n",
    "    |> list\n",
    "\n",
    "y"
   ]
  },
  {
   "cell_type": "code",
   "execution_count": 65,
   "id": "183e4ca1",
   "metadata": {},
   "outputs": [
    {
     "data": {
      "text/plain": [
       "[1, 2, 3]"
      ]
     },
     "execution_count": 65,
     "metadata": {},
     "output_type": "execute_result"
    }
   ],
   "source": [
    "x"
   ]
  },
  {
   "cell_type": "code",
   "execution_count": 66,
   "id": "c3d6d804",
   "metadata": {},
   "outputs": [
    {
     "data": {
      "text/plain": [
       "[2]"
      ]
     },
     "execution_count": 66,
     "metadata": {},
     "output_type": "execute_result"
    }
   ],
   "source": [
    "y = []\n",
    "for t in x:\n",
    "    if t % 2 == 0:\n",
    "        y.append(t)\n",
    "        \n",
    "y"
   ]
  },
  {
   "cell_type": "code",
   "execution_count": 67,
   "id": "4f42f5a3",
   "metadata": {},
   "outputs": [
    {
     "data": {
      "text/plain": [
       "[2]"
      ]
     },
     "execution_count": 67,
     "metadata": {},
     "output_type": "execute_result"
    }
   ],
   "source": [
    "# Python filter\n",
    "list(filter(lambda x: x % 2 == 0, x))"
   ]
  },
  {
   "cell_type": "code",
   "execution_count": 68,
   "id": "d58dab7c",
   "metadata": {},
   "outputs": [
    {
     "data": {
      "text/plain": [
       "[2]"
      ]
     },
     "execution_count": 68,
     "metadata": {},
     "output_type": "execute_result"
    }
   ],
   "source": [
    "# Coconut filter\n",
    "x |> filter$(x -> x%2==0) |> list"
   ]
  },
  {
   "cell_type": "code",
   "execution_count": 72,
   "id": "35c39447",
   "metadata": {},
   "outputs": [
    {
     "data": {
      "text/plain": [
       "array([ 2,  4,  6,  8, 10, 12, 14, 16, 18, 20, 22, 24, 26, 28, 30, 32, 34,\n",
       "       36, 38, 40, 42, 44, 46, 48, 50, 52, 54, 56, 58, 60, 62, 64, 66, 68,\n",
       "       70, 72, 74, 76, 78, 80, 82, 84, 86, 88, 90, 92, 94, 96, 98])"
      ]
     },
     "execution_count": 72,
     "metadata": {},
     "output_type": "execute_result"
    }
   ],
   "source": [
    "np.arange(1,100) |> filter$(x -> x%2==0) |> list |> np.array"
   ]
  },
  {
   "cell_type": "code",
   "execution_count": 73,
   "id": "d31c1513",
   "metadata": {},
   "outputs": [],
   "source": [
    "z = np.arange(1, 100)"
   ]
  },
  {
   "cell_type": "code",
   "execution_count": 74,
   "id": "bbde575f",
   "metadata": {},
   "outputs": [
    {
     "data": {
      "text/plain": [
       "array([ 2,  4,  6,  8, 10, 12, 14, 16, 18, 20, 22, 24, 26, 28, 30, 32, 34,\n",
       "       36, 38, 40, 42, 44, 46, 48, 50, 52, 54, 56, 58, 60, 62, 64, 66, 68,\n",
       "       70, 72, 74, 76, 78, 80, 82, 84, 86, 88, 90, 92, 94, 96, 98])"
      ]
     },
     "execution_count": 74,
     "metadata": {},
     "output_type": "execute_result"
    }
   ],
   "source": [
    "# Numpy filter\n",
    "z[z%2==0]"
   ]
  },
  {
   "cell_type": "markdown",
   "id": "d6e52c52",
   "metadata": {},
   "source": [
    "### infix function"
   ]
  },
  {
   "cell_type": "code",
   "execution_count": 76,
   "id": "770c4808",
   "metadata": {},
   "outputs": [],
   "source": [
    "X = np.random.rand(100, 100)"
   ]
  },
  {
   "cell_type": "code",
   "execution_count": 78,
   "id": "9e7b946c",
   "metadata": {},
   "outputs": [],
   "source": [
    "Y = np.random.rand(100, 100)"
   ]
  },
  {
   "cell_type": "code",
   "execution_count": 79,
   "id": "30cd4f92",
   "metadata": {},
   "outputs": [
    {
     "data": {
      "text/plain": [
       "array([[26.63104486, 24.40063652, 24.37381142, ..., 26.42587297,\n",
       "        23.55035436, 24.19915216],\n",
       "       [21.34591015, 20.78318093, 20.60592142, ..., 22.96520482,\n",
       "        21.98523939, 20.56646529],\n",
       "       [21.91166702, 22.09560802, 22.74396032, ..., 26.55629529,\n",
       "        21.50197084, 22.19740813],\n",
       "       ...,\n",
       "       [22.42870844, 22.23980863, 24.6428381 , ..., 23.67287539,\n",
       "        19.23134123, 21.97464304],\n",
       "       [26.99478624, 26.63878525, 25.1643738 , ..., 29.4186416 ,\n",
       "        24.86646738, 25.19533244],\n",
       "       [26.12479452, 23.63429582, 23.47742419, ..., 26.62787967,\n",
       "        22.09000584, 23.78884002]])"
      ]
     },
     "execution_count": 79,
     "metadata": {},
     "output_type": "execute_result"
    }
   ],
   "source": [
    "np.matmul(X, Y)"
   ]
  },
  {
   "cell_type": "code",
   "execution_count": 80,
   "id": "c733ef82",
   "metadata": {},
   "outputs": [
    {
     "data": {
      "text/plain": [
       "array([[1237.68703219, 1246.84129069, 1240.82284064, ..., 1368.48583195,\n",
       "        1125.18081981, 1223.88616225],\n",
       "       [1104.13786802, 1110.89056537, 1101.85248239, ..., 1213.56528131,\n",
       "        1003.06840782, 1088.0911888 ],\n",
       "       [1122.2895866 , 1132.03913801, 1122.68718546, ..., 1237.55073436,\n",
       "        1018.08974565, 1110.6637832 ],\n",
       "       ...,\n",
       "       [1119.06864819, 1127.14572735, 1117.5763358 , ..., 1230.76166657,\n",
       "        1017.42295927, 1100.62956293],\n",
       "       [1293.98074004, 1306.55655707, 1299.76022414, ..., 1428.3819611 ,\n",
       "        1177.23161934, 1279.12189244],\n",
       "       [1208.45892758, 1222.31111165, 1212.00988181, ..., 1335.2516289 ,\n",
       "        1099.16089244, 1195.14938445]])"
      ]
     },
     "execution_count": 80,
     "metadata": {},
     "output_type": "execute_result"
    }
   ],
   "source": [
    "np.matmul(np.matmul(X, Y), Y)"
   ]
  },
  {
   "cell_type": "code",
   "execution_count": 81,
   "id": "c7cf8630",
   "metadata": {},
   "outputs": [
    {
     "data": {
      "text/plain": [
       "array([[1237.68703219, 1246.84129069, 1240.82284064, ..., 1368.48583195,\n",
       "        1125.18081981, 1223.88616225],\n",
       "       [1104.13786802, 1110.89056537, 1101.85248239, ..., 1213.56528131,\n",
       "        1003.06840782, 1088.0911888 ],\n",
       "       [1122.2895866 , 1132.03913801, 1122.68718546, ..., 1237.55073436,\n",
       "        1018.08974565, 1110.6637832 ],\n",
       "       ...,\n",
       "       [1119.06864819, 1127.14572735, 1117.5763358 , ..., 1230.76166657,\n",
       "        1017.42295927, 1100.62956293],\n",
       "       [1293.98074004, 1306.55655707, 1299.76022414, ..., 1428.3819611 ,\n",
       "        1177.23161934, 1279.12189244],\n",
       "       [1208.45892758, 1222.31111165, 1212.00988181, ..., 1335.2516289 ,\n",
       "        1099.16089244, 1195.14938445]])"
      ]
     },
     "execution_count": 81,
     "metadata": {},
     "output_type": "execute_result"
    }
   ],
   "source": [
    "X `np.matmul` Y `np.matmul` Y"
   ]
  },
  {
   "cell_type": "code",
   "execution_count": 82,
   "id": "9e6c594f",
   "metadata": {},
   "outputs": [],
   "source": [
    "def f(x,y):\n",
    "    return x + 2 * y"
   ]
  },
  {
   "cell_type": "code",
   "execution_count": 83,
   "id": "1fc66e38",
   "metadata": {},
   "outputs": [
    {
     "data": {
      "text/plain": [
       "5"
      ]
     },
     "execution_count": 83,
     "metadata": {},
     "output_type": "execute_result"
    }
   ],
   "source": [
    "f(1,2) # prefix function"
   ]
  },
  {
   "cell_type": "code",
   "execution_count": 84,
   "id": "b1a65ab9",
   "metadata": {},
   "outputs": [
    {
     "data": {
      "text/plain": [
       "5"
      ]
     },
     "execution_count": 84,
     "metadata": {},
     "output_type": "execute_result"
    }
   ],
   "source": [
    "1 `f` 2 # infix function"
   ]
  },
  {
   "cell_type": "code",
   "execution_count": 94,
   "id": "afd53ddc",
   "metadata": {},
   "outputs": [
    {
     "data": {
      "image/png": "[encoded data removed]",
      "text/plain": [
       "<Figure size 432x288 with 1 Axes>"
      ]
     },
     "metadata": {
      "needs_background": "light"
     },
     "output_type": "display_data"
    }
   ],
   "source": [
    "# Plot\n",
    "# [x, x], [x, x^2], [x, x^3]\n",
    "x = np.arange(1, 10)\n",
    "plt.plot(x, x, label=\"y=x\")\n",
    "plt.plot(x, x**2, label=\"y=x^2\")\n",
    "plt.plot(x, x**3, label=\"y=x^3\")\n",
    "plt.legend()\n",
    "plt.show()"
   ]
  },
  {
   "cell_type": "code",
   "execution_count": 90,
   "id": "68c4235e",
   "metadata": {},
   "outputs": [
    {
     "data": {
      "text/plain": [
       "deque([])"
      ]
     },
     "execution_count": 90,
     "metadata": {},
     "output_type": "execute_result"
    },
    {
     "data": {
      "image/png": "[encoded data removed]",
      "text/plain": [
       "<Figure size 432x288 with 1 Axes>"
      ]
     },
     "metadata": {
      "needs_background": "light"
     },
     "output_type": "display_data"
    }
   ],
   "source": [
    "x = np.arange(1, 10)\n",
    "X = [x, x**2, x**3]\n",
    "labels = [1, 2, 3]\n",
    "\n",
    "X |> map$(y -> plt.plot(x, y)) |> consume"
   ]
  },
  {
   "cell_type": "code",
   "execution_count": 93,
   "id": "2912ec9b",
   "metadata": {},
   "outputs": [
    {
     "data": {
      "image/png": "[encoded data removed]",
      "text/plain": [
       "<Figure size 432x288 with 1 Axes>"
      ]
     },
     "metadata": {
      "needs_background": "light"
     },
     "output_type": "display_data"
    }
   ],
   "source": [
    "zip(X, labels) \\\n",
    "    |> map$(t -> plt.plot(x, t[0], label=\"y=x^\"+str(t[1]))) \\\n",
    "    |> consume\n",
    "\n",
    "plt.legend()\n",
    "plt.show()"
   ]
  },
  {
   "cell_type": "code",
   "execution_count": 95,
   "id": "58694e3d",
   "metadata": {},
   "outputs": [
    {
     "name": "stdout",
     "output_type": "stream",
     "text": [
      "1 4\n",
      "2 5\n",
      "3 6\n"
     ]
    },
    {
     "data": {
      "text/plain": [
       "deque([])"
      ]
     },
     "execution_count": 95,
     "metadata": {},
     "output_type": "execute_result"
    }
   ],
   "source": [
    "x = [1,2,3]\n",
    "y = [4,5,6]\n",
    "\n",
    "zip(x, y) |> map$(t -> print(t[0], t[1])) |> consume"
   ]
  },
  {
   "cell_type": "markdown",
   "id": "a1826867",
   "metadata": {},
   "source": [
    "## Additional Feature"
   ]
  },
  {
   "cell_type": "code",
   "execution_count": 119,
   "id": "57d1641a",
   "metadata": {},
   "outputs": [],
   "source": [
    "# 피보나치\n",
    "def fib_py(n):\n",
    "    if n == 0 or n == 1:\n",
    "        return 1\n",
    "    elif isinstance(n, int):\n",
    "        return fib_py(n-1) + fib_py(n-2)\n",
    "    else:\n",
    "        raise TypeError(\"Fibonacci should require integer\")"
   ]
  },
  {
   "cell_type": "code",
   "execution_count": 120,
   "id": "a16c72af",
   "metadata": {},
   "outputs": [
    {
     "data": {
      "text/plain": [
       "89"
      ]
     },
     "execution_count": 120,
     "metadata": {},
     "output_type": "execute_result"
    }
   ],
   "source": [
    "fib_py(10)"
   ]
  },
  {
   "cell_type": "code",
   "execution_count": 155,
   "id": "0aa23eb2",
   "metadata": {},
   "outputs": [],
   "source": [
    "# 코코넛 피보나치\n",
    "def fib(0) = 1\n",
    "addpattern def fib(1) = 1\n",
    "\n",
    "@memoize\n",
    "addpattern def fib(n is int if n > 0) = fib(n-1) + fib(n-2)"
   ]
  },
  {
   "cell_type": "code",
   "execution_count": 156,
   "id": "d6f085f9",
   "metadata": {},
   "outputs": [
    {
     "data": {
      "text/plain": [
       "89"
      ]
     },
     "execution_count": 156,
     "metadata": {},
     "output_type": "execute_result"
    }
   ],
   "source": [
    "fib(10)"
   ]
  },
  {
   "cell_type": "code",
   "execution_count": 157,
   "id": "cffb94e4",
   "metadata": {},
   "outputs": [
    {
     "data": {
      "text/plain": [
       "1"
      ]
     },
     "execution_count": 157,
     "metadata": {},
     "output_type": "execute_result"
    }
   ],
   "source": [
    "fib(0)"
   ]
  },
  {
   "cell_type": "code",
   "execution_count": 158,
   "id": "5daca97a",
   "metadata": {},
   "outputs": [
    {
     "data": {
      "text/plain": [
       "1"
      ]
     },
     "execution_count": 158,
     "metadata": {},
     "output_type": "execute_result"
    }
   ],
   "source": [
    "fib(1)"
   ]
  },
  {
   "cell_type": "code",
   "execution_count": 159,
   "id": "5a9d7343",
   "metadata": {},
   "outputs": [
    {
     "data": {
      "text/plain": [
       "573147844013817084101"
      ]
     },
     "execution_count": 159,
     "metadata": {},
     "output_type": "execute_result"
    }
   ],
   "source": [
    "fib(100)"
   ]
  },
  {
   "cell_type": "code",
   "execution_count": null,
   "id": "06623471",
   "metadata": {},
   "outputs": [],
   "source": [
    "# fib(30) = fib(29) + fib(28)\n",
    "#         = fib(28) + fib(27) + fib(27) + fib(26)\n",
    "#         = ..."
   ]
  },
  {
   "cell_type": "code",
   "execution_count": 164,
   "id": "229a845d",
   "metadata": {},
   "outputs": [],
   "source": [
    "from functools import cache, lru_cache"
   ]
  },
  {
   "cell_type": "code",
   "execution_count": 165,
   "id": "8fe29aba",
   "metadata": {},
   "outputs": [],
   "source": [
    "@lru_cache\n",
    "def fib_py_cache(n):\n",
    "    if n == 0 or n == 1:\n",
    "        return 1\n",
    "    else:\n",
    "        return fib_py_cache(n-1) + fib_py_cache(n-2)"
   ]
  },
  {
   "cell_type": "code",
   "execution_count": 166,
   "id": "b0c4c9fa",
   "metadata": {},
   "outputs": [
    {
     "data": {
      "text/plain": [
       "573147844013817084101"
      ]
     },
     "execution_count": 166,
     "metadata": {},
     "output_type": "execute_result"
    }
   ],
   "source": [
    "fib_py_cache(100)"
   ]
  }
 ],
 "metadata": {
  "kernelspec": {
   "display_name": "Coconut",
   "language": "coconut",
   "name": "coconut"
  },
  "language_info": {
   "codemirror_mode": {
    "name": "python",
    "version": 3
   },
   "file_extension": ".coco",
   "mimetype": "text/x-python3",
   "name": "coconut",
   "pygments_lexer": "coconut",
   "version": "1.5.0"
  }
 },
 "nbformat": 4,
 "nbformat_minor": 5
}
