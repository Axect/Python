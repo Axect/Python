{
 "cells": [
  {
   "cell_type": "markdown",
   "id": "61687ccf",
   "metadata": {},
   "source": [
    "# Benchmark for simple ops"
   ]
  },
  {
   "cell_type": "markdown",
   "id": "97b3974e",
   "metadata": {},
   "source": [
    "**Candidates**\n",
    "\n",
    "* Numpy\n",
    "* Numba\n",
    "* Pythran"
   ]
  },
  {
   "cell_type": "markdown",
   "id": "4ef0b3f7",
   "metadata": {},
   "source": [
    "## Loads"
   ]
  },
  {
   "cell_type": "code",
   "execution_count": 1,
   "id": "e1aa09eb",
   "metadata": {},
   "outputs": [],
   "source": [
    "%load_ext pythran.magic"
   ]
  },
  {
   "cell_type": "code",
   "execution_count": 2,
   "id": "63071912",
   "metadata": {},
   "outputs": [],
   "source": [
    "import numpy as np\n",
    "from numba import jit"
   ]
  },
  {
   "cell_type": "markdown",
   "id": "f0e21380",
   "metadata": {},
   "source": [
    "## 1. Basic Summation"
   ]
  },
  {
   "cell_type": "markdown",
   "id": "71bb8dad",
   "metadata": {},
   "source": [
    "### 1-1. Python"
   ]
  },
  {
   "cell_type": "code",
   "execution_count": 3,
   "id": "77c43798",
   "metadata": {},
   "outputs": [],
   "source": [
    "def py_sum(n):\n",
    "    s = 0\n",
    "    for i in range(n):\n",
    "        s += i\n",
    "    return s"
   ]
  },
  {
   "cell_type": "code",
   "execution_count": 4,
   "id": "4970e4e4",
   "metadata": {},
   "outputs": [
    {
     "name": "stdout",
     "output_type": "stream",
     "text": [
      "378 ms ± 3.87 ms per loop (mean ± std. dev. of 7 runs, 1 loop each)\n"
     ]
    }
   ],
   "source": [
    "%timeit py_sum(10000000)"
   ]
  },
  {
   "cell_type": "markdown",
   "id": "9225c9a1",
   "metadata": {},
   "source": [
    "### 1-2. Pythran"
   ]
  },
  {
   "cell_type": "markdown",
   "id": "b542c299",
   "metadata": {},
   "source": [
    "#### 1-2-1. Just Pythran"
   ]
  },
  {
   "cell_type": "code",
   "execution_count": 5,
   "id": "93ebfd10",
   "metadata": {},
   "outputs": [],
   "source": [
    "%%pythran -DUSE_XSIMD -march=native\n",
    "#pythran export pyth_sum(int)\n",
    "def pyth_sum(n):\n",
    "    s = 0\n",
    "    for i in range(n):\n",
    "        s += i\n",
    "    return s"
   ]
  },
  {
   "cell_type": "code",
   "execution_count": 6,
   "id": "32642420",
   "metadata": {},
   "outputs": [
    {
     "name": "stdout",
     "output_type": "stream",
     "text": [
      "798 µs ± 750 ns per loop (mean ± std. dev. of 7 runs, 1000 loops each)\n"
     ]
    }
   ],
   "source": [
    "%timeit pyth_sum(10000000)"
   ]
  },
  {
   "cell_type": "markdown",
   "id": "c3dc24a1",
   "metadata": {},
   "source": [
    "#### 1-2-2. Pythran with numpy"
   ]
  },
  {
   "cell_type": "code",
   "execution_count": 7,
   "id": "0a476fc4",
   "metadata": {},
   "outputs": [],
   "source": [
    "%%pythran -DUSE_XSIMD -march=native\n",
    "#pythran export pyth_np_sum(int)\n",
    "import numpy as np\n",
    "def pyth_np_sum(n):\n",
    "    return np.sum(np.arange(0, n, 1))"
   ]
  },
  {
   "cell_type": "code",
   "execution_count": 8,
   "id": "20db105b",
   "metadata": {},
   "outputs": [
    {
     "name": "stdout",
     "output_type": "stream",
     "text": [
      "607 µs ± 2.52 µs per loop (mean ± std. dev. of 7 runs, 1000 loops each)\n"
     ]
    }
   ],
   "source": [
    "%timeit pyth_np_sum(10000000)"
   ]
  },
  {
   "cell_type": "markdown",
   "id": "d2a7be70",
   "metadata": {},
   "source": [
    "#### 1-2-3. Pythran with openmp"
   ]
  },
  {
   "cell_type": "code",
   "execution_count": 9,
   "id": "2c5742eb",
   "metadata": {},
   "outputs": [],
   "source": [
    "%%pythran -DUSE_XSIMD -fopenmp -march=native\n",
    "#pythran export pyth_omp_sum(int)\n",
    "def pyth_omp_sum(n):\n",
    "    s = 0\n",
    "    #omp parallel for reduction(+:s)\n",
    "    for i in range(n):\n",
    "        s += i\n",
    "    return s"
   ]
  },
  {
   "cell_type": "code",
   "execution_count": 10,
   "id": "f06c2740",
   "metadata": {},
   "outputs": [
    {
     "name": "stdout",
     "output_type": "stream",
     "text": [
      "172 µs ± 5.61 µs per loop (mean ± std. dev. of 7 runs, 10000 loops each)\n"
     ]
    }
   ],
   "source": [
    "%timeit pyth_omp_sum(10000000)"
   ]
  },
  {
   "cell_type": "markdown",
   "id": "3056f599",
   "metadata": {},
   "source": [
    "### 1-3. Numba"
   ]
  },
  {
   "cell_type": "code",
   "execution_count": 11,
   "id": "5d1e9be1",
   "metadata": {},
   "outputs": [],
   "source": [
    "@jit(nopython=True, fastmath=True)\n",
    "def numba_sum(n):\n",
    "    s = 0\n",
    "    for i in range(n):\n",
    "        s += i\n",
    "    return s"
   ]
  },
  {
   "cell_type": "code",
   "execution_count": 12,
   "id": "193ee9fa",
   "metadata": {},
   "outputs": [
    {
     "name": "stdout",
     "output_type": "stream",
     "text": [
      "148 ns ± 0.784 ns per loop (mean ± std. dev. of 7 runs, 10000000 loops each)\n"
     ]
    }
   ],
   "source": [
    "%timeit numba_sum(10000000)"
   ]
  },
  {
   "cell_type": "markdown",
   "id": "16a59a08",
   "metadata": {},
   "source": [
    "## 2. Matrix Multiplication"
   ]
  },
  {
   "cell_type": "markdown",
   "id": "8c8d312b",
   "metadata": {},
   "source": [
    "### 2-1. Numpy"
   ]
  },
  {
   "cell_type": "code",
   "execution_count": 13,
   "id": "69c04206",
   "metadata": {},
   "outputs": [],
   "source": [
    "def np_matmul(a, b):\n",
    "    c = a @ b\n",
    "    return c[0,0]"
   ]
  },
  {
   "cell_type": "code",
   "execution_count": 14,
   "id": "2bbb2c49",
   "metadata": {},
   "outputs": [],
   "source": [
    "a = np.random.rand(1000, 1000)\n",
    "b = np.random.rand(1000, 1000)"
   ]
  },
  {
   "cell_type": "code",
   "execution_count": 15,
   "id": "9a5ce7db",
   "metadata": {},
   "outputs": [
    {
     "name": "stdout",
     "output_type": "stream",
     "text": [
      "11.2 ms ± 408 µs per loop (mean ± std. dev. of 7 runs, 100 loops each)\n"
     ]
    }
   ],
   "source": [
    "%timeit np_matmul(a, b)"
   ]
  },
  {
   "cell_type": "markdown",
   "id": "6f173162",
   "metadata": {},
   "source": [
    "### 2-2. Numba"
   ]
  },
  {
   "cell_type": "code",
   "execution_count": 16,
   "id": "c62d327e",
   "metadata": {},
   "outputs": [],
   "source": [
    "@jit(nopython=True, fastmath=True)\n",
    "def numba_matmul(a, b):\n",
    "    c = a @ b\n",
    "    return c[0,0]"
   ]
  },
  {
   "cell_type": "code",
   "execution_count": 17,
   "id": "114730e4",
   "metadata": {},
   "outputs": [
    {
     "name": "stdout",
     "output_type": "stream",
     "text": [
      "11.5 ms ± 973 µs per loop (mean ± std. dev. of 7 runs, 1 loop each)\n"
     ]
    }
   ],
   "source": [
    "%timeit numba_matmul(a, b)"
   ]
  },
  {
   "cell_type": "markdown",
   "id": "ffa52c9b",
   "metadata": {},
   "source": [
    "### 2-3. Pythran"
   ]
  },
  {
   "cell_type": "code",
   "execution_count": 18,
   "id": "5db6a1df",
   "metadata": {},
   "outputs": [],
   "source": [
    "%%pythran -DUSE_XSIMD -fopenmp -march=native\n",
    "#pythran export pyth_matmul(float64[:,:], float64[:,:])\n",
    "import numpy as np\n",
    "def pyth_matmul(a, b):\n",
    "    c = a @ b\n",
    "    return c[0,0]"
   ]
  },
  {
   "cell_type": "code",
   "execution_count": 19,
   "id": "90c1a9e8",
   "metadata": {},
   "outputs": [
    {
     "name": "stdout",
     "output_type": "stream",
     "text": [
      "12.8 ms ± 956 µs per loop (mean ± std. dev. of 7 runs, 100 loops each)\n"
     ]
    }
   ],
   "source": [
    "%timeit pyth_matmul(a, b)"
   ]
  }
 ],
 "metadata": {
  "kernelspec": {
   "display_name": "Python 3",
   "language": "python",
   "name": "python3"
  },
  "language_info": {
   "codemirror_mode": {
    "name": "ipython",
    "version": 3
   },
   "file_extension": ".py",
   "mimetype": "text/x-python",
   "name": "python",
   "nbconvert_exporter": "python",
   "pygments_lexer": "ipython3",
   "version": "3.9.5"
  }
 },
 "nbformat": 4,
 "nbformat_minor": 5
}
